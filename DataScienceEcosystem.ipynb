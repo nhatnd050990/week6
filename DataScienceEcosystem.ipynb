{
 "cells": [
  {
   "cell_type": "markdown",
   "id": "601583ea-292c-402c-bab3-88b8e9fe3a5e",
   "metadata": {},
   "source": [
    "# Data Science Tools and Ecosystem"
   ]
  },
  {
   "cell_type": "markdown",
   "id": "167012d9-18df-4111-bef3-7819604444c7",
   "metadata": {},
   "source": [
    "In this notebook, Data Science Tools and Ecosystem are summarized."
   ]
  },
  {
   "cell_type": "markdown",
   "id": "b0629b50-9562-48cd-b8f3-f5cc55708648",
   "metadata": {},
   "source": [
    "__Objectives:__\n",
    "- List popular languages for Data Science\n",
    "- List the commonly used libraries in data science\n",
    "- List opensource development environment data science tools"
   ]
  },
  {
   "cell_type": "markdown",
   "id": "c795049a-524c-4e76-ba39-48b82d2fa86d",
   "metadata": {},
   "source": [
    "Some of the popular languages that Data Scientists use are:\n",
    "1. Python\n",
    "2. Java\n",
    "3. Ruby"
   ]
  },
  {
   "cell_type": "markdown",
   "id": "0e587189-05fe-4813-ba7a-ac5eeca45ae4",
   "metadata": {},
   "source": [
    "Some of the commonly used libraries used by Data Scientists include:\n",
    "1. NumPy\n",
    "2. Scikit-learn\n",
    "3. Pandas\n",
    "4. TensorFlow\n",
    "5. Seaborn\n",
    "6. Theano\n",
    "7. Keras\n",
    "8. PyTorch\n",
    "9. Matplotlib"
   ]
  },
  {
   "cell_type": "markdown",
   "id": "7c48163c-906f-425a-b685-5a06d85c0e10",
   "metadata": {},
   "source": [
    "|Data Science Tools|\n",
    "|------------------|\n",
    "|Jupyter Notebooks|\n",
    "|R Studio’s|\n",
    "|Apache Hadoop|"
   ]
  },
  {
   "cell_type": "markdown",
   "id": "d402f3c3-82f5-4bea-a66a-a70c75aa0bed",
   "metadata": {},
   "source": [
    "### Below are a few examples of evaluating arithmetic expressions in Python"
   ]
  },
  {
   "cell_type": "code",
   "execution_count": 1,
   "id": "e74dd041-c57b-4173-bcc9-49e9f9d4fafc",
   "metadata": {
    "tags": []
   },
   "outputs": [
    {
     "data": {
      "text/plain": [
       "17"
      ]
     },
     "execution_count": 1,
     "metadata": {},
     "output_type": "execute_result"
    }
   ],
   "source": [
    "#This a simple arithmetic expression to mutiply then add integers\n",
    "(3*4)+5"
   ]
  },
  {
   "cell_type": "code",
   "execution_count": 2,
   "id": "a22dc21c-86c7-47e4-9495-af20a8947b60",
   "metadata": {
    "tags": []
   },
   "outputs": [
    {
     "data": {
      "text/plain": [
       "3.3333333333333335"
      ]
     },
     "execution_count": 2,
     "metadata": {},
     "output_type": "execute_result"
    }
   ],
   "source": [
    "# This will convert 200 minutes to hours by diving by 60\n",
    "200/60"
   ]
  },
  {
   "cell_type": "markdown",
   "id": "35359353-9c30-4a5a-8974-4b3adb26026e",
   "metadata": {},
   "source": [
    "## Author\n",
    "## Nhat Nguyen Duc"
   ]
  },
  {
   "cell_type": "code",
   "execution_count": null,
   "id": "6a312990-8e8e-49cf-a43d-90d29d127b0e",
   "metadata": {},
   "outputs": [],
   "source": []
  }
 ],
 "metadata": {
  "kernelspec": {
   "display_name": "Python 3 (ipykernel)",
   "language": "python",
   "name": "python3"
  },
  "language_info": {
   "codemirror_mode": {
    "name": "ipython",
    "version": 3
   },
   "file_extension": ".py",
   "mimetype": "text/x-python",
   "name": "python",
   "nbconvert_exporter": "python",
   "pygments_lexer": "ipython3",
   "version": "3.11.4"
  }
 },
 "nbformat": 4,
 "nbformat_minor": 5
}
